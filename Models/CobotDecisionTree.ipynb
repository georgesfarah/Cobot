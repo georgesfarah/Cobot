{
  "nbformat": 4,
  "nbformat_minor": 2,
  "metadata": {
    "colab": {
      "name": "CobotDecisionTree.ipynb",
      "provenance": [],
      "collapsed_sections": []
    },
    "kernelspec": {
      "name": "python3",
      "display_name": "Python 3.8.3 64-bit"
    },
    "language_info": {
      "name": "python",
      "version": "3.8.3",
      "mimetype": "text/x-python",
      "codemirror_mode": {
        "name": "ipython",
        "version": 3
      },
      "pygments_lexer": "ipython3",
      "nbconvert_exporter": "python",
      "file_extension": ".py"
    },
    "interpreter": {
      "hash": "5c0372ed38b372118c24adb00d45654d76c8d10261533c5724e3f5fc1d75489a"
    }
  },
  "cells": [
    {
      "cell_type": "code",
      "execution_count": 1,
      "source": [
        "import pandas as pd\r\n",
        "from sklearn.preprocessing import LabelEncoder\r\n",
        "from sklearn.preprocessing import StandardScaler\r\n",
        "from sklearn.model_selection import GridSearchCV\r\n",
        "from sklearn.model_selection import train_test_split"
      ],
      "outputs": [],
      "metadata": {
        "id": "aMrlwKuAAnvk"
      }
    },
    {
      "cell_type": "code",
      "execution_count": 2,
      "source": [
        "accuracy1_data=pd.read_csv(\"../Datasets/accuracy1.csv\")\r\n",
        "accuracy1_data=accuracy1_data.dropna(subset=['location'])\r\n",
        "\r\n",
        "y_tmp=accuracy1_data['location']\r\n",
        "le = LabelEncoder()\r\n",
        "y=le.fit_transform(y_tmp)\r\n",
        "\r\n",
        "X=accuracy1_data.drop(['location','C2:2B:F9:8D:63:ED'], axis = 1)\r\n",
        "X=X.fillna(value=-150)\r\n",
        "\r\n",
        "X_train, X_test, y_train, y_test = train_test_split(X, y, random_state=0,stratify=y)\r\n",
        "scaler = StandardScaler()\r\n",
        "X_train = scaler.fit_transform(X_train)\r\n",
        "X_test = scaler.transform(X_test)"
      ],
      "outputs": [],
      "metadata": {
        "id": "fb2aVftDBHAy"
      }
    },
    {
      "cell_type": "code",
      "execution_count": 3,
      "source": [
        "from sklearn.tree import DecisionTreeClassifier\r\n",
        "\r\n",
        "my_model=DecisionTreeClassifier(random_state=0)"
      ],
      "outputs": [],
      "metadata": {
        "id": "JdekOPqBDdeK"
      }
    },
    {
      "cell_type": "code",
      "execution_count": 4,
      "source": [
        "max_depth=range(1,10,1)\r\n",
        "min_samples_leaf=range(1,10,1)\r\n",
        "criterions=['gini','entropy']"
      ],
      "outputs": [],
      "metadata": {
        "id": "hsWM5lB-DsOt"
      }
    },
    {
      "cell_type": "code",
      "execution_count": 6,
      "source": [
        "tuned_parameters = dict(max_depth=max_depth, min_samples_leaf=min_samples_leaf,criterion=criterions)\r\n",
        "GSCV = GridSearchCV(my_model, tuned_parameters,cv=5)\r\n",
        "GSCV.fit(X_train,y_train)"
      ],
      "outputs": [
        {
          "output_type": "stream",
          "name": "stderr",
          "text": [
            "C:\\Users\\User\\AppData\\Local\\Programs\\Python\\Python38\\lib\\site-packages\\sklearn\\model_selection\\_split.py:670: UserWarning: The least populated class in y has only 4 members, which is less than n_splits=5.\n",
            "  warnings.warn((\"The least populated class in y has only %d\"\n"
          ]
        },
        {
          "output_type": "execute_result",
          "data": {
            "text/plain": [
              "GridSearchCV(cv=5, estimator=DecisionTreeClassifier(random_state=0),\n",
              "             param_grid={'criterion': ['gini', 'entropy'],\n",
              "                         'max_depth': range(1, 10),\n",
              "                         'min_samples_leaf': range(1, 10)})"
            ]
          },
          "metadata": {},
          "execution_count": 6
        }
      ],
      "metadata": {
        "id": "7cjfK6rzDX_x",
        "colab": {
          "base_uri": "https://localhost:8080/"
        },
        "outputId": "7c1f5ac3-8be2-4562-cd61-ac8437c1608a"
      }
    },
    {
      "cell_type": "code",
      "execution_count": 7,
      "source": [
        "print('best score:',GSCV.best_score_)\r\n",
        "print('best params:',GSCV.best_params_)"
      ],
      "outputs": [
        {
          "output_type": "stream",
          "name": "stdout",
          "text": [
            "best score: 0.79\n",
            "best params: {'criterion': 'gini', 'max_depth': 4, 'min_samples_leaf': 1}\n"
          ]
        }
      ],
      "metadata": {
        "id": "MOVHa9uVF704"
      }
    },
    {
      "cell_type": "code",
      "execution_count": 8,
      "source": [
        "best_model=DecisionTreeClassifier(**GSCV.best_params_)\r\n",
        "best_model.fit(X_train, y_train)\r\n",
        "best_model.score(X_test,y_test)"
      ],
      "outputs": [
        {
          "output_type": "execute_result",
          "data": {
            "text/plain": [
              "0.7777777777777778"
            ]
          },
          "metadata": {},
          "execution_count": 8
        }
      ],
      "metadata": {
        "colab": {
          "base_uri": "https://localhost:8080/"
        },
        "id": "UOlCsY--GQnV",
        "outputId": "e07cde38-3e25-4fae-8dab-68e26eea984d"
      }
    }
  ]
}