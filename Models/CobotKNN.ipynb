{
  "nbformat": 4,
  "nbformat_minor": 2,
  "metadata": {
    "colab": {
      "name": "CobotKNN.ipynb",
      "provenance": [],
      "collapsed_sections": []
    },
    "kernelspec": {
      "name": "python3",
      "display_name": "Python 3"
    },
    "language_info": {
      "name": "python"
    }
  },
  "cells": [
    {
      "cell_type": "code",
      "execution_count": null,
      "source": [
        "import pandas as pd\r\n",
        "from sklearn.preprocessing import LabelEncoder\r\n",
        "from sklearn.model_selection import GridSearchCV"
      ],
      "outputs": [],
      "metadata": {
        "id": "wkyEFVcaRtz5"
      }
    },
    {
      "cell_type": "code",
      "execution_count": null,
      "source": [
        "accuracy1_data=pd.read_csv(\"../Datasets/accuracy1.csv\") #chdir is /\r\n",
        "accuracy1_data=accuracy1_data.dropna(subset=['location'])\r\n",
        "\r\n",
        "y_tmp=accuracy1_data['location']\r\n",
        "le = LabelEncoder()\r\n",
        "y=le.fit_transform(y_tmp)\r\n",
        "\r\n",
        "X=accuracy1_data.drop(['location','C2:2B:F9:8D:63:ED'], axis = 1)\r\n",
        "X=X.fillna(value=-150)\r\n",
        "X=(X-X.mean())/X.std()"
      ],
      "outputs": [],
      "metadata": {
        "id": "MSeqVtWZR0F5"
      }
    },
    {
      "cell_type": "code",
      "execution_count": null,
      "source": [
        "from sklearn.neighbors import KNeighborsClassifier\r\n",
        "\r\n",
        "my_model=KNeighborsClassifier()"
      ],
      "outputs": [],
      "metadata": {
        "id": "1NA63c5sR5LG"
      }
    },
    {
      "cell_type": "code",
      "execution_count": null,
      "source": [
        "n_neighbors=range(1,11)\r\n",
        "weights=[\"uniform\", \"distance\"]\r\n",
        "\r\n",
        "algorithm=[\"ball_tree\", \"kd_tree\", \"brute\"]\r\n",
        "\r\n",
        "leaf_size=range(10,50)"
      ],
      "outputs": [],
      "metadata": {
        "id": "5RQkO-4BSWNw"
      }
    },
    {
      "cell_type": "code",
      "execution_count": null,
      "source": [
        "tuned_parameters = dict(n_neighbors=n_neighbors, weights=weights, algorithm=algorithm, leaf_size=leaf_size)\r\n",
        "GSCV = GridSearchCV(my_model, tuned_parameters,cv=5)\r\n",
        "GSCV.fit(X,y)"
      ],
      "outputs": [],
      "metadata": {
        "colab": {
          "base_uri": "https://localhost:8080/"
        },
        "id": "M0iziz_2Szcm",
        "outputId": "b785612d-56c1-4578-b29d-ddbff90de929"
      }
    },
    {
      "cell_type": "code",
      "execution_count": null,
      "source": [
        "print('best score:',GSCV.best_score_)\r\n",
        "print('best params:',GSCV.best_params_)"
      ],
      "outputs": [],
      "metadata": {
        "colab": {
          "base_uri": "https://localhost:8080/"
        },
        "id": "yvY4QkfmTQr1",
        "outputId": "fbf1a7f9-f6c1-4087-f382-404a87cee7b1"
      }
    },
    {
      "cell_type": "code",
      "execution_count": null,
      "source": [
        "best_model=KNeighborsClassifier(**GSCV.best_params_)\r\n",
        "best_model.fit(X, y)"
      ],
      "outputs": [],
      "metadata": {}
    }
  ]
}