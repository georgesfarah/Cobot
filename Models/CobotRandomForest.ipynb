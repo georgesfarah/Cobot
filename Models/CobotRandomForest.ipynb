{
  "nbformat": 4,
  "nbformat_minor": 2,
  "metadata": {
    "colab": {
      "name": "Cobot_RandomForest.ipynb",
      "provenance": [],
      "collapsed_sections": []
    },
    "kernelspec": {
      "name": "python3",
      "display_name": "Python 3.8.3 64-bit"
    },
    "language_info": {
      "name": "python",
      "version": "3.8.3",
      "mimetype": "text/x-python",
      "codemirror_mode": {
        "name": "ipython",
        "version": 3
      },
      "pygments_lexer": "ipython3",
      "nbconvert_exporter": "python",
      "file_extension": ".py"
    },
    "interpreter": {
      "hash": "5c0372ed38b372118c24adb00d45654d76c8d10261533c5724e3f5fc1d75489a"
    }
  },
  "cells": [
    {
      "cell_type": "code",
      "execution_count": 1,
      "source": [
        "import pandas as pd\r\n",
        "from sklearn.preprocessing import LabelEncoder\r\n",
        "from sklearn.preprocessing import StandardScaler\r\n",
        "from sklearn.model_selection import GridSearchCV\r\n",
        "from sklearn.model_selection import train_test_split"
      ],
      "outputs": [],
      "metadata": {
        "id": "aMrlwKuAAnvk"
      }
    },
    {
      "cell_type": "code",
      "execution_count": 2,
      "source": [
        "accuracy1_data=pd.read_csv(\"../Datasets/accuracy1.csv\")\r\n",
        "accuracy1_data=accuracy1_data.dropna(subset=['location'])\r\n",
        "\r\n",
        "y_tmp=accuracy1_data['location']\r\n",
        "le = LabelEncoder()\r\n",
        "y=le.fit_transform(y_tmp)\r\n",
        "\r\n",
        "X=accuracy1_data.drop(['location','C2:2B:F9:8D:63:ED'], axis = 1)\r\n",
        "X=X.fillna(value=-150)\r\n",
        "\r\n",
        "X_train, X_test, y_train, y_test = train_test_split(X, y, random_state=0,stratify=y)\r\n",
        "scaler = StandardScaler()\r\n",
        "X_train = scaler.fit_transform(X_train)\r\n",
        "X_test = scaler.transform(X_test)"
      ],
      "outputs": [],
      "metadata": {
        "id": "fb2aVftDBHAy"
      }
    },
    {
      "cell_type": "markdown",
      "source": [
        "DecisionTreeClassifier\n"
      ],
      "metadata": {
        "id": "JQwQQpolFOw_"
      }
    },
    {
      "cell_type": "code",
      "execution_count": 3,
      "source": [
        "from sklearn.ensemble import RandomForestClassifier\r\n",
        "\r\n",
        "my_model=RandomForestClassifier(random_state=0)"
      ],
      "outputs": [],
      "metadata": {
        "id": "JdekOPqBDdeK"
      }
    },
    {
      "cell_type": "code",
      "execution_count": 4,
      "source": [
        "max_depth=range(1,10,1)\r\n",
        "min_samples_leaf=range(1,10,1)\r\n",
        "criterions=['gini','entropy']\r\n",
        "n_estimators=[50,70,90,100]\r\n",
        "class_weight=[\"balanced\", \"balanced_subsample\", None]"
      ],
      "outputs": [],
      "metadata": {
        "id": "hsWM5lB-DsOt"
      }
    },
    {
      "cell_type": "code",
      "execution_count": null,
      "source": [
        "tuned_parameters = dict(max_depth=max_depth, min_samples_leaf=min_samples_leaf,criterion=criterions,n_estimators=n_estimators,\r\n",
        "                        class_weight=class_weight)\r\n",
        "GSCV = GridSearchCV(my_model, tuned_parameters,cv=5)\r\n",
        "GSCV.fit(X_train,y_train)"
      ],
      "outputs": [],
      "metadata": {
        "id": "7cjfK6rzDX_x",
        "colab": {
          "base_uri": "https://localhost:8080/"
        },
        "outputId": "9699e735-68fb-42dd-ab92-ef58edd5d3e2"
      }
    },
    {
      "cell_type": "code",
      "execution_count": null,
      "source": [
        "print('best score:',GSCV.best_score_)\r\n",
        "print('best params:',GSCV.best_params_)"
      ],
      "outputs": [],
      "metadata": {
        "id": "MOVHa9uVF704"
      }
    },
    {
      "cell_type": "code",
      "execution_count": null,
      "source": [
        "best_model=RandomForestClassifier(**GSCV.best_params_)\r\n",
        "best_model.fit(X_train,y_train)\r\n",
        "best_model.score(X_test,y_test)"
      ],
      "outputs": [],
      "metadata": {
        "colab": {
          "base_uri": "https://localhost:8080/"
        },
        "id": "UOlCsY--GQnV",
        "outputId": "443a3782-a5e5-4551-ed9a-3e6c8646ca28"
      }
    }
  ]
}